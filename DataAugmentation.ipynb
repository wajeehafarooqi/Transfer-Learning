{
  "nbformat": 4,
  "nbformat_minor": 0,
  "metadata": {
    "colab": {
      "provenance": [],
      "mount_file_id": "1hQcwU_GzE8dPjagJ3hcYiDlN4WSpU12M",
      "authorship_tag": "ABX9TyODjjidL5n0YeaE5b9/Ros1",
      "include_colab_link": true
    },
    "kernelspec": {
      "name": "python3",
      "display_name": "Python 3"
    },
    "language_info": {
      "name": "python"
    }
  },
  "cells": [
    {
      "cell_type": "markdown",
      "metadata": {
        "id": "view-in-github",
        "colab_type": "text"
      },
      "source": [
        "<a href=\"https://colab.research.google.com/github/wajeehafarooqi/Transfer-Learning/blob/main/DataAugmentation.ipynb\" target=\"_parent\"><img src=\"https://colab.research.google.com/assets/colab-badge.svg\" alt=\"Open In Colab\"/></a>"
      ]
    },
    {
      "cell_type": "code",
      "execution_count": 21,
      "metadata": {
        "id": "lDfvtjb6IGnS"
      },
      "outputs": [],
      "source": [
        "#from keras.preprocessing import image\n",
        "from keras.preprocessing.image import ImageDataGenerator\n",
        "from keras.utils import image_utils"
      ]
    },
    {
      "cell_type": "code",
      "source": [
        "from google.colab import drive\n",
        "drive.mount('/gdrive')"
      ],
      "metadata": {
        "colab": {
          "base_uri": "https://localhost:8080/"
        },
        "id": "ZOtSZ2vcJaI3",
        "outputId": "860d5f30-5b74-4176-fdb7-0c2a63eae93e"
      },
      "execution_count": 3,
      "outputs": [
        {
          "output_type": "stream",
          "name": "stdout",
          "text": [
            "Mounted at /gdrive\n"
          ]
        }
      ]
    },
    {
      "cell_type": "code",
      "source": [
        "img = image_utils.load_img('/content/drive/MyDrive/Colab Notebooks/TLProjectCatsVSDogs/Data Augmentation/AAira.jpg',target_size=(200,200))"
      ],
      "metadata": {
        "id": "f4lwGKPuITcX"
      },
      "execution_count": 27,
      "outputs": []
    },
    {
      "cell_type": "code",
      "source": [
        "type(img)"
      ],
      "metadata": {
        "colab": {
          "base_uri": "https://localhost:8080/"
        },
        "id": "z7wJEqC7IUZa",
        "outputId": "dfc31046-f310-41ee-c260-2bc23dcececa"
      },
      "execution_count": 28,
      "outputs": [
        {
          "output_type": "execute_result",
          "data": {
            "text/plain": [
              "PIL.Image.Image"
            ]
          },
          "metadata": {},
          "execution_count": 28
        }
      ]
    },
    {
      "cell_type": "code",
      "source": [
        "datagenerator = ImageDataGenerator(\n",
        "                rotation_range=50,\n",
        "                shear_range=0.2,\n",
        "                zoom_range=0.2,\n",
        "                horizontal_flip=True,\n",
        "                #vertical_flip=True,\n",
        "                width_shift_range=0.2,\n",
        "                height_shift_range=0.2)"
      ],
      "metadata": {
        "id": "Mdk7yPHbIYoC"
      },
      "execution_count": 29,
      "outputs": []
    },
    {
      "cell_type": "code",
      "source": [
        "img=image_utils.img_to_array(img)"
      ],
      "metadata": {
        "id": "k6OP1ct-IbAI"
      },
      "execution_count": 30,
      "outputs": []
    },
    {
      "cell_type": "code",
      "source": [
        "input_batch = img.reshape(1,200,200,3)"
      ],
      "metadata": {
        "id": "tqSqrwwfIdjQ"
      },
      "execution_count": 31,
      "outputs": []
    },
    {
      "cell_type": "code",
      "source": [
        "i=0\n",
        "for output in datagenerator.flow(input_batch,batch_size=1,save_to_dir='/content/drive/MyDrive/Colab Notebooks/TLProjectCatsVSDogs/Data Augmentation'):\n",
        "    \n",
        "    i=i+1\n",
        "    \n",
        "    if i==10:\n",
        "        break"
      ],
      "metadata": {
        "id": "kHZzuD9SIeV4"
      },
      "execution_count": 33,
      "outputs": []
    }
  ]
}